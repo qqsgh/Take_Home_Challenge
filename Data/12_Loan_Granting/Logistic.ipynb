{
 "cells": [
  {
   "cell_type": "code",
   "execution_count": 180,
   "metadata": {},
   "outputs": [],
   "source": [
    "import warnings\n",
    "warnings.simplefilter('ignore')\n",
    "\n",
    "import numpy as np\n",
    "import pandas as pd\n",
    "from scipy.stats import ttest_ind\n",
    "import seaborn as sns\n",
    "import matplotlib.pyplot as plt\n",
    "\n",
    "%matplotlib inline"
   ]
  },
  {
   "cell_type": "code",
   "execution_count": 181,
   "metadata": {},
   "outputs": [],
   "source": [
    "borrower_table = pd.read_csv('./borrower_table.csv')\n",
    "loan_table = pd.read_csv('./loan_table.csv',parse_dates=['date'])"
   ]
  },
  {
   "cell_type": "code",
   "execution_count": 182,
   "metadata": {},
   "outputs": [
    {
     "data": {
      "text/html": [
       "<div>\n",
       "<style scoped>\n",
       "    .dataframe tbody tr th:only-of-type {\n",
       "        vertical-align: middle;\n",
       "    }\n",
       "\n",
       "    .dataframe tbody tr th {\n",
       "        vertical-align: top;\n",
       "    }\n",
       "\n",
       "    .dataframe thead th {\n",
       "        text-align: right;\n",
       "    }\n",
       "</style>\n",
       "<table border=\"1\" class=\"dataframe\">\n",
       "  <thead>\n",
       "    <tr style=\"text-align: right;\">\n",
       "      <th></th>\n",
       "      <th>loan_id</th>\n",
       "      <th>is_first_loan</th>\n",
       "      <th>fully_repaid_previous_loans</th>\n",
       "      <th>currently_repaying_other_loans</th>\n",
       "      <th>total_credit_card_limit</th>\n",
       "      <th>avg_percentage_credit_card_limit_used_last_year</th>\n",
       "      <th>saving_amount</th>\n",
       "      <th>checking_amount</th>\n",
       "      <th>is_employed</th>\n",
       "      <th>yearly_salary</th>\n",
       "      <th>age</th>\n",
       "      <th>dependent_number</th>\n",
       "    </tr>\n",
       "  </thead>\n",
       "  <tbody>\n",
       "    <tr>\n",
       "      <th>0</th>\n",
       "      <td>289774</td>\n",
       "      <td>1</td>\n",
       "      <td>NaN</td>\n",
       "      <td>NaN</td>\n",
       "      <td>8000</td>\n",
       "      <td>0.49</td>\n",
       "      <td>3285</td>\n",
       "      <td>1073</td>\n",
       "      <td>0</td>\n",
       "      <td>0</td>\n",
       "      <td>47</td>\n",
       "      <td>3</td>\n",
       "    </tr>\n",
       "    <tr>\n",
       "      <th>1</th>\n",
       "      <td>482590</td>\n",
       "      <td>0</td>\n",
       "      <td>1.0</td>\n",
       "      <td>0.0</td>\n",
       "      <td>4500</td>\n",
       "      <td>1.03</td>\n",
       "      <td>636</td>\n",
       "      <td>5299</td>\n",
       "      <td>1</td>\n",
       "      <td>13500</td>\n",
       "      <td>33</td>\n",
       "      <td>1</td>\n",
       "    </tr>\n",
       "    <tr>\n",
       "      <th>2</th>\n",
       "      <td>135565</td>\n",
       "      <td>1</td>\n",
       "      <td>NaN</td>\n",
       "      <td>NaN</td>\n",
       "      <td>6900</td>\n",
       "      <td>0.82</td>\n",
       "      <td>2085</td>\n",
       "      <td>3422</td>\n",
       "      <td>1</td>\n",
       "      <td>24500</td>\n",
       "      <td>38</td>\n",
       "      <td>8</td>\n",
       "    </tr>\n",
       "    <tr>\n",
       "      <th>3</th>\n",
       "      <td>207797</td>\n",
       "      <td>0</td>\n",
       "      <td>1.0</td>\n",
       "      <td>0.0</td>\n",
       "      <td>1200</td>\n",
       "      <td>0.82</td>\n",
       "      <td>358</td>\n",
       "      <td>3388</td>\n",
       "      <td>0</td>\n",
       "      <td>0</td>\n",
       "      <td>24</td>\n",
       "      <td>1</td>\n",
       "    </tr>\n",
       "    <tr>\n",
       "      <th>4</th>\n",
       "      <td>828078</td>\n",
       "      <td>0</td>\n",
       "      <td>0.0</td>\n",
       "      <td>0.0</td>\n",
       "      <td>6900</td>\n",
       "      <td>0.80</td>\n",
       "      <td>2138</td>\n",
       "      <td>4282</td>\n",
       "      <td>1</td>\n",
       "      <td>18100</td>\n",
       "      <td>36</td>\n",
       "      <td>1</td>\n",
       "    </tr>\n",
       "  </tbody>\n",
       "</table>\n",
       "</div>"
      ],
      "text/plain": [
       "   loan_id  is_first_loan  fully_repaid_previous_loans  \\\n",
       "0   289774              1                          NaN   \n",
       "1   482590              0                          1.0   \n",
       "2   135565              1                          NaN   \n",
       "3   207797              0                          1.0   \n",
       "4   828078              0                          0.0   \n",
       "\n",
       "   currently_repaying_other_loans  total_credit_card_limit  \\\n",
       "0                             NaN                     8000   \n",
       "1                             0.0                     4500   \n",
       "2                             NaN                     6900   \n",
       "3                             0.0                     1200   \n",
       "4                             0.0                     6900   \n",
       "\n",
       "   avg_percentage_credit_card_limit_used_last_year  saving_amount  \\\n",
       "0                                             0.49           3285   \n",
       "1                                             1.03            636   \n",
       "2                                             0.82           2085   \n",
       "3                                             0.82            358   \n",
       "4                                             0.80           2138   \n",
       "\n",
       "   checking_amount  is_employed  yearly_salary  age  dependent_number  \n",
       "0             1073            0              0   47                 3  \n",
       "1             5299            1          13500   33                 1  \n",
       "2             3422            1          24500   38                 8  \n",
       "3             3388            0              0   24                 1  \n",
       "4             4282            1          18100   36                 1  "
      ]
     },
     "execution_count": 182,
     "metadata": {},
     "output_type": "execute_result"
    }
   ],
   "source": [
    "borrower_table.head()"
   ]
  },
  {
   "cell_type": "code",
   "execution_count": 183,
   "metadata": {},
   "outputs": [
    {
     "name": "stdout",
     "output_type": "stream",
     "text": [
      "<class 'pandas.core.frame.DataFrame'>\n",
      "RangeIndex: 101100 entries, 0 to 101099\n",
      "Data columns (total 12 columns):\n",
      "loan_id                                            101100 non-null int64\n",
      "is_first_loan                                      101100 non-null int64\n",
      "fully_repaid_previous_loans                        46153 non-null float64\n",
      "currently_repaying_other_loans                     46153 non-null float64\n",
      "total_credit_card_limit                            101100 non-null int64\n",
      "avg_percentage_credit_card_limit_used_last_year    94128 non-null float64\n",
      "saving_amount                                      101100 non-null int64\n",
      "checking_amount                                    101100 non-null int64\n",
      "is_employed                                        101100 non-null int64\n",
      "yearly_salary                                      101100 non-null int64\n",
      "age                                                101100 non-null int64\n",
      "dependent_number                                   101100 non-null int64\n",
      "dtypes: float64(3), int64(9)\n",
      "memory usage: 9.3 MB\n"
     ]
    }
   ],
   "source": [
    "borrower_table.info()"
   ]
  },
  {
   "cell_type": "code",
   "execution_count": 184,
   "metadata": {},
   "outputs": [
    {
     "data": {
      "text/html": [
       "<div>\n",
       "<style scoped>\n",
       "    .dataframe tbody tr th:only-of-type {\n",
       "        vertical-align: middle;\n",
       "    }\n",
       "\n",
       "    .dataframe tbody tr th {\n",
       "        vertical-align: top;\n",
       "    }\n",
       "\n",
       "    .dataframe thead th {\n",
       "        text-align: right;\n",
       "    }\n",
       "</style>\n",
       "<table border=\"1\" class=\"dataframe\">\n",
       "  <thead>\n",
       "    <tr style=\"text-align: right;\">\n",
       "      <th></th>\n",
       "      <th>loan_id</th>\n",
       "      <th>loan_purpose</th>\n",
       "      <th>date</th>\n",
       "      <th>loan_granted</th>\n",
       "      <th>loan_repaid</th>\n",
       "    </tr>\n",
       "  </thead>\n",
       "  <tbody>\n",
       "    <tr>\n",
       "      <th>0</th>\n",
       "      <td>19454</td>\n",
       "      <td>investment</td>\n",
       "      <td>2012-03-15</td>\n",
       "      <td>0</td>\n",
       "      <td>NaN</td>\n",
       "    </tr>\n",
       "    <tr>\n",
       "      <th>1</th>\n",
       "      <td>496811</td>\n",
       "      <td>investment</td>\n",
       "      <td>2012-01-17</td>\n",
       "      <td>0</td>\n",
       "      <td>NaN</td>\n",
       "    </tr>\n",
       "    <tr>\n",
       "      <th>2</th>\n",
       "      <td>929493</td>\n",
       "      <td>other</td>\n",
       "      <td>2012-02-09</td>\n",
       "      <td>0</td>\n",
       "      <td>NaN</td>\n",
       "    </tr>\n",
       "    <tr>\n",
       "      <th>3</th>\n",
       "      <td>580653</td>\n",
       "      <td>other</td>\n",
       "      <td>2012-06-27</td>\n",
       "      <td>1</td>\n",
       "      <td>1.0</td>\n",
       "    </tr>\n",
       "    <tr>\n",
       "      <th>4</th>\n",
       "      <td>172419</td>\n",
       "      <td>business</td>\n",
       "      <td>2012-05-21</td>\n",
       "      <td>1</td>\n",
       "      <td>0.0</td>\n",
       "    </tr>\n",
       "  </tbody>\n",
       "</table>\n",
       "</div>"
      ],
      "text/plain": [
       "   loan_id loan_purpose       date  loan_granted  loan_repaid\n",
       "0    19454   investment 2012-03-15             0          NaN\n",
       "1   496811   investment 2012-01-17             0          NaN\n",
       "2   929493        other 2012-02-09             0          NaN\n",
       "3   580653        other 2012-06-27             1          1.0\n",
       "4   172419     business 2012-05-21             1          0.0"
      ]
     },
     "execution_count": 184,
     "metadata": {},
     "output_type": "execute_result"
    }
   ],
   "source": [
    "loan_table.head()"
   ]
  },
  {
   "cell_type": "code",
   "execution_count": 185,
   "metadata": {},
   "outputs": [
    {
     "name": "stdout",
     "output_type": "stream",
     "text": [
      "<class 'pandas.core.frame.DataFrame'>\n",
      "RangeIndex: 101100 entries, 0 to 101099\n",
      "Data columns (total 5 columns):\n",
      "loan_id         101100 non-null int64\n",
      "loan_purpose    101100 non-null object\n",
      "date            101100 non-null datetime64[ns]\n",
      "loan_granted    101100 non-null int64\n",
      "loan_repaid     47654 non-null float64\n",
      "dtypes: datetime64[ns](1), float64(1), int64(2), object(1)\n",
      "memory usage: 3.9+ MB\n"
     ]
    }
   ],
   "source": [
    "loan_table.info()"
   ]
  },
  {
   "cell_type": "markdown",
   "metadata": {},
   "source": [
    "# Data Processing"
   ]
  },
  {
   "cell_type": "code",
   "execution_count": 186,
   "metadata": {},
   "outputs": [],
   "source": [
    "data = borrower_table.merge(loan_table,left_on='loan_id', right_on='loan_id')"
   ]
  },
  {
   "cell_type": "code",
   "execution_count": 187,
   "metadata": {},
   "outputs": [
    {
     "data": {
      "text/html": [
       "<div>\n",
       "<style scoped>\n",
       "    .dataframe tbody tr th:only-of-type {\n",
       "        vertical-align: middle;\n",
       "    }\n",
       "\n",
       "    .dataframe tbody tr th {\n",
       "        vertical-align: top;\n",
       "    }\n",
       "\n",
       "    .dataframe thead th {\n",
       "        text-align: right;\n",
       "    }\n",
       "</style>\n",
       "<table border=\"1\" class=\"dataframe\">\n",
       "  <thead>\n",
       "    <tr style=\"text-align: right;\">\n",
       "      <th></th>\n",
       "      <th>loan_id</th>\n",
       "      <th>is_first_loan</th>\n",
       "      <th>fully_repaid_previous_loans</th>\n",
       "      <th>currently_repaying_other_loans</th>\n",
       "      <th>total_credit_card_limit</th>\n",
       "      <th>avg_percentage_credit_card_limit_used_last_year</th>\n",
       "      <th>saving_amount</th>\n",
       "      <th>checking_amount</th>\n",
       "      <th>is_employed</th>\n",
       "      <th>yearly_salary</th>\n",
       "      <th>age</th>\n",
       "      <th>dependent_number</th>\n",
       "      <th>loan_purpose</th>\n",
       "      <th>date</th>\n",
       "      <th>loan_granted</th>\n",
       "      <th>loan_repaid</th>\n",
       "    </tr>\n",
       "  </thead>\n",
       "  <tbody>\n",
       "    <tr>\n",
       "      <th>2</th>\n",
       "      <td>135565</td>\n",
       "      <td>1</td>\n",
       "      <td>NaN</td>\n",
       "      <td>NaN</td>\n",
       "      <td>6900</td>\n",
       "      <td>0.82</td>\n",
       "      <td>2085</td>\n",
       "      <td>3422</td>\n",
       "      <td>1</td>\n",
       "      <td>24500</td>\n",
       "      <td>38</td>\n",
       "      <td>8</td>\n",
       "      <td>other</td>\n",
       "      <td>2012-07-16</td>\n",
       "      <td>1</td>\n",
       "      <td>1.0</td>\n",
       "    </tr>\n",
       "    <tr>\n",
       "      <th>5</th>\n",
       "      <td>423171</td>\n",
       "      <td>1</td>\n",
       "      <td>NaN</td>\n",
       "      <td>NaN</td>\n",
       "      <td>6100</td>\n",
       "      <td>0.53</td>\n",
       "      <td>6163</td>\n",
       "      <td>5298</td>\n",
       "      <td>1</td>\n",
       "      <td>29500</td>\n",
       "      <td>24</td>\n",
       "      <td>1</td>\n",
       "      <td>other</td>\n",
       "      <td>2012-11-07</td>\n",
       "      <td>1</td>\n",
       "      <td>1.0</td>\n",
       "    </tr>\n",
       "    <tr>\n",
       "      <th>7</th>\n",
       "      <td>200139</td>\n",
       "      <td>1</td>\n",
       "      <td>NaN</td>\n",
       "      <td>NaN</td>\n",
       "      <td>4000</td>\n",
       "      <td>0.57</td>\n",
       "      <td>602</td>\n",
       "      <td>2757</td>\n",
       "      <td>1</td>\n",
       "      <td>31700</td>\n",
       "      <td>36</td>\n",
       "      <td>8</td>\n",
       "      <td>business</td>\n",
       "      <td>2012-09-19</td>\n",
       "      <td>1</td>\n",
       "      <td>0.0</td>\n",
       "    </tr>\n",
       "    <tr>\n",
       "      <th>8</th>\n",
       "      <td>991294</td>\n",
       "      <td>0</td>\n",
       "      <td>1.0</td>\n",
       "      <td>0.0</td>\n",
       "      <td>7000</td>\n",
       "      <td>0.52</td>\n",
       "      <td>2575</td>\n",
       "      <td>2917</td>\n",
       "      <td>1</td>\n",
       "      <td>58900</td>\n",
       "      <td>33</td>\n",
       "      <td>3</td>\n",
       "      <td>emergency_funds</td>\n",
       "      <td>2012-12-04</td>\n",
       "      <td>1</td>\n",
       "      <td>1.0</td>\n",
       "    </tr>\n",
       "    <tr>\n",
       "      <th>9</th>\n",
       "      <td>875332</td>\n",
       "      <td>0</td>\n",
       "      <td>1.0</td>\n",
       "      <td>0.0</td>\n",
       "      <td>4300</td>\n",
       "      <td>0.83</td>\n",
       "      <td>722</td>\n",
       "      <td>892</td>\n",
       "      <td>1</td>\n",
       "      <td>5400</td>\n",
       "      <td>32</td>\n",
       "      <td>7</td>\n",
       "      <td>business</td>\n",
       "      <td>2012-01-20</td>\n",
       "      <td>1</td>\n",
       "      <td>1.0</td>\n",
       "    </tr>\n",
       "  </tbody>\n",
       "</table>\n",
       "</div>"
      ],
      "text/plain": [
       "   loan_id  is_first_loan  fully_repaid_previous_loans  \\\n",
       "2   135565              1                          NaN   \n",
       "5   423171              1                          NaN   \n",
       "7   200139              1                          NaN   \n",
       "8   991294              0                          1.0   \n",
       "9   875332              0                          1.0   \n",
       "\n",
       "   currently_repaying_other_loans  total_credit_card_limit  \\\n",
       "2                             NaN                     6900   \n",
       "5                             NaN                     6100   \n",
       "7                             NaN                     4000   \n",
       "8                             0.0                     7000   \n",
       "9                             0.0                     4300   \n",
       "\n",
       "   avg_percentage_credit_card_limit_used_last_year  saving_amount  \\\n",
       "2                                             0.82           2085   \n",
       "5                                             0.53           6163   \n",
       "7                                             0.57            602   \n",
       "8                                             0.52           2575   \n",
       "9                                             0.83            722   \n",
       "\n",
       "   checking_amount  is_employed  yearly_salary  age  dependent_number  \\\n",
       "2             3422            1          24500   38                 8   \n",
       "5             5298            1          29500   24                 1   \n",
       "7             2757            1          31700   36                 8   \n",
       "8             2917            1          58900   33                 3   \n",
       "9              892            1           5400   32                 7   \n",
       "\n",
       "      loan_purpose       date  loan_granted  loan_repaid  \n",
       "2            other 2012-07-16             1          1.0  \n",
       "5            other 2012-11-07             1          1.0  \n",
       "7         business 2012-09-19             1          0.0  \n",
       "8  emergency_funds 2012-12-04             1          1.0  \n",
       "9         business 2012-01-20             1          1.0  "
      ]
     },
     "execution_count": 187,
     "metadata": {},
     "output_type": "execute_result"
    }
   ],
   "source": [
    "# choose data with loan granted \n",
    "# the data with loan not granted is not useful for profit calculation\n",
    "data = data[data['loan_granted']==1]\n",
    "data.head()"
   ]
  },
  {
   "cell_type": "code",
   "execution_count": 188,
   "metadata": {},
   "outputs": [
    {
     "name": "stdout",
     "output_type": "stream",
     "text": [
      "<class 'pandas.core.frame.DataFrame'>\n",
      "Int64Index: 47654 entries, 2 to 101099\n",
      "Data columns (total 16 columns):\n",
      "loan_id                                            47654 non-null int64\n",
      "is_first_loan                                      47654 non-null int64\n",
      "fully_repaid_previous_loans                        21865 non-null float64\n",
      "currently_repaying_other_loans                     21865 non-null float64\n",
      "total_credit_card_limit                            47654 non-null int64\n",
      "avg_percentage_credit_card_limit_used_last_year    46751 non-null float64\n",
      "saving_amount                                      47654 non-null int64\n",
      "checking_amount                                    47654 non-null int64\n",
      "is_employed                                        47654 non-null int64\n",
      "yearly_salary                                      47654 non-null int64\n",
      "age                                                47654 non-null int64\n",
      "dependent_number                                   47654 non-null int64\n",
      "loan_purpose                                       47654 non-null object\n",
      "date                                               47654 non-null datetime64[ns]\n",
      "loan_granted                                       47654 non-null int64\n",
      "loan_repaid                                        47654 non-null float64\n",
      "dtypes: datetime64[ns](1), float64(4), int64(10), object(1)\n",
      "memory usage: 6.2+ MB\n"
     ]
    }
   ],
   "source": [
    "data.info()"
   ]
  },
  {
   "cell_type": "code",
   "execution_count": 189,
   "metadata": {},
   "outputs": [
    {
     "data": {
      "text/plain": [
       "fully_repaid_previous_loans                        25789\n",
       "currently_repaying_other_loans                     25789\n",
       "avg_percentage_credit_card_limit_used_last_year      903\n",
       "dtype: int64"
      ]
     },
     "execution_count": 189,
     "metadata": {},
     "output_type": "execute_result"
    }
   ],
   "source": [
    "# checking missing values\n",
    "missing = data.isnull().sum()\n",
    "missing[missing>0]"
   ]
  },
  {
   "cell_type": "code",
   "execution_count": 190,
   "metadata": {},
   "outputs": [],
   "source": [
    "# parse date information and extract month, week, and dayofweek information\n",
    "data['month'] = data['date'].apply(lambda x: x.month)\n",
    "data['week'] = data['date'].apply(lambda x: x.week)\n",
    "data['dayofweek'] = data['date'].apply(lambda x: x.dayofweek)\n",
    "\n",
    "# drop useless features\n",
    "data = data.drop(labels=['loan_id', 'date', 'loan_granted'], axis=1, inplace=False)"
   ]
  },
  {
   "cell_type": "code",
   "execution_count": 191,
   "metadata": {},
   "outputs": [
    {
     "name": "stdout",
     "output_type": "stream",
     "text": [
      "[nan]\n",
      "[nan]\n"
     ]
    }
   ],
   "source": [
    "# there is a clear connection between 'is_first_loan' \n",
    "# and 'fully_repaid_previous_loans', 'currently_repaying_other_loans'\n",
    "print(data[data['is_first_loan'] == 1]['fully_repaid_previous_loans'].unique())\n",
    "print(data[data['is_first_loan'] == 1]['currently_repaying_other_loans'].unique())"
   ]
  },
  {
   "cell_type": "code",
   "execution_count": 192,
   "metadata": {},
   "outputs": [],
   "source": [
    "# fill missing values with -1 for 'fully_repaid_previous_loans' and 'currently_repaying_other_loans'\n",
    "data = data.fillna({'fully_repaid_previous_loans': -1, 'currently_repaying_other_loans': -1})"
   ]
  },
  {
   "cell_type": "code",
   "execution_count": 193,
   "metadata": {},
   "outputs": [],
   "source": [
    "median = data['avg_percentage_credit_card_limit_used_last_year'].median()\n",
    "data = data.fillna({'avg_percentage_credit_card_limit_used_last_year':median})"
   ]
  },
  {
   "cell_type": "code",
   "execution_count": 194,
   "metadata": {},
   "outputs": [],
   "source": [
    "# encoding 'loan_purpose'\n",
    "from sklearn.preprocessing import LabelEncoder\n",
    "from sklearn.model_selection import train_test_split\n",
    "import lightgbm as lgb\n",
    "\n",
    "encoder = LabelEncoder()\n",
    "data['loan_purpose'] = encoder.fit_transform(data['loan_purpose'])"
   ]
  },
  {
   "cell_type": "code",
   "execution_count": 195,
   "metadata": {},
   "outputs": [
    {
     "name": "stdout",
     "output_type": "stream",
     "text": [
      "<class 'pandas.core.frame.DataFrame'>\n",
      "Int64Index: 47654 entries, 2 to 101099\n",
      "Data columns (total 16 columns):\n",
      "is_first_loan                                      47654 non-null int64\n",
      "fully_repaid_previous_loans                        47654 non-null float64\n",
      "currently_repaying_other_loans                     47654 non-null float64\n",
      "total_credit_card_limit                            47654 non-null int64\n",
      "avg_percentage_credit_card_limit_used_last_year    47654 non-null float64\n",
      "saving_amount                                      47654 non-null int64\n",
      "checking_amount                                    47654 non-null int64\n",
      "is_employed                                        47654 non-null int64\n",
      "yearly_salary                                      47654 non-null int64\n",
      "age                                                47654 non-null int64\n",
      "dependent_number                                   47654 non-null int64\n",
      "loan_purpose                                       47654 non-null int64\n",
      "loan_repaid                                        47654 non-null float64\n",
      "month                                              47654 non-null int64\n",
      "week                                               47654 non-null int64\n",
      "dayofweek                                          47654 non-null int64\n",
      "dtypes: float64(4), int64(12)\n",
      "memory usage: 6.2 MB\n"
     ]
    }
   ],
   "source": [
    "data.info()"
   ]
  },
  {
   "cell_type": "code",
   "execution_count": 196,
   "metadata": {},
   "outputs": [],
   "source": [
    "data.loan_repaid = data.loan_repaid.astype(int)"
   ]
  },
  {
   "cell_type": "code",
   "execution_count": 197,
   "metadata": {},
   "outputs": [
    {
     "name": "stdout",
     "output_type": "stream",
     "text": [
      "<class 'pandas.core.frame.DataFrame'>\n",
      "Int64Index: 47654 entries, 2 to 101099\n",
      "Data columns (total 16 columns):\n",
      "is_first_loan                                      47654 non-null int64\n",
      "fully_repaid_previous_loans                        47654 non-null float64\n",
      "currently_repaying_other_loans                     47654 non-null float64\n",
      "total_credit_card_limit                            47654 non-null int64\n",
      "avg_percentage_credit_card_limit_used_last_year    47654 non-null float64\n",
      "saving_amount                                      47654 non-null int64\n",
      "checking_amount                                    47654 non-null int64\n",
      "is_employed                                        47654 non-null int64\n",
      "yearly_salary                                      47654 non-null int64\n",
      "age                                                47654 non-null int64\n",
      "dependent_number                                   47654 non-null int64\n",
      "loan_purpose                                       47654 non-null int64\n",
      "loan_repaid                                        47654 non-null int64\n",
      "month                                              47654 non-null int64\n",
      "week                                               47654 non-null int64\n",
      "dayofweek                                          47654 non-null int64\n",
      "dtypes: float64(3), int64(13)\n",
      "memory usage: 6.2 MB\n"
     ]
    }
   ],
   "source": [
    "data.info()"
   ]
  },
  {
   "cell_type": "code",
   "execution_count": 198,
   "metadata": {},
   "outputs": [],
   "source": [
    "from sklearn import preprocessing\n",
    "datas = pd.DataFrame(preprocessing.scale(data))\n",
    "datas.columns = list(data.columns)"
   ]
  },
  {
   "cell_type": "code",
   "execution_count": 199,
   "metadata": {},
   "outputs": [
    {
     "name": "stdout",
     "output_type": "stream",
     "text": [
      "<class 'pandas.core.frame.DataFrame'>\n",
      "RangeIndex: 47654 entries, 0 to 47653\n",
      "Data columns (total 16 columns):\n",
      "is_first_loan                                      47654 non-null float64\n",
      "fully_repaid_previous_loans                        47654 non-null float64\n",
      "currently_repaying_other_loans                     47654 non-null float64\n",
      "total_credit_card_limit                            47654 non-null float64\n",
      "avg_percentage_credit_card_limit_used_last_year    47654 non-null float64\n",
      "saving_amount                                      47654 non-null float64\n",
      "checking_amount                                    47654 non-null float64\n",
      "is_employed                                        47654 non-null float64\n",
      "yearly_salary                                      47654 non-null float64\n",
      "age                                                47654 non-null float64\n",
      "dependent_number                                   47654 non-null float64\n",
      "loan_purpose                                       47654 non-null float64\n",
      "loan_repaid                                        47654 non-null float64\n",
      "month                                              47654 non-null float64\n",
      "week                                               47654 non-null float64\n",
      "dayofweek                                          47654 non-null float64\n",
      "dtypes: float64(16)\n",
      "memory usage: 5.8 MB\n"
     ]
    }
   ],
   "source": [
    "datas.info()"
   ]
  },
  {
   "cell_type": "code",
   "execution_count": 200,
   "metadata": {},
   "outputs": [
    {
     "data": {
      "text/html": [
       "<div>\n",
       "<style scoped>\n",
       "    .dataframe tbody tr th:only-of-type {\n",
       "        vertical-align: middle;\n",
       "    }\n",
       "\n",
       "    .dataframe tbody tr th {\n",
       "        vertical-align: top;\n",
       "    }\n",
       "\n",
       "    .dataframe thead th {\n",
       "        text-align: right;\n",
       "    }\n",
       "</style>\n",
       "<table border=\"1\" class=\"dataframe\">\n",
       "  <thead>\n",
       "    <tr style=\"text-align: right;\">\n",
       "      <th></th>\n",
       "      <th>is_first_loan</th>\n",
       "      <th>fully_repaid_previous_loans</th>\n",
       "      <th>currently_repaying_other_loans</th>\n",
       "      <th>total_credit_card_limit</th>\n",
       "      <th>avg_percentage_credit_card_limit_used_last_year</th>\n",
       "      <th>saving_amount</th>\n",
       "      <th>checking_amount</th>\n",
       "      <th>is_employed</th>\n",
       "      <th>yearly_salary</th>\n",
       "      <th>age</th>\n",
       "      <th>dependent_number</th>\n",
       "      <th>loan_purpose</th>\n",
       "      <th>loan_repaid</th>\n",
       "      <th>month</th>\n",
       "      <th>week</th>\n",
       "      <th>dayofweek</th>\n",
       "    </tr>\n",
       "  </thead>\n",
       "  <tbody>\n",
       "    <tr>\n",
       "      <th>count</th>\n",
       "      <td>4.765400e+04</td>\n",
       "      <td>4.765400e+04</td>\n",
       "      <td>4.765400e+04</td>\n",
       "      <td>4.765400e+04</td>\n",
       "      <td>4.765400e+04</td>\n",
       "      <td>4.765400e+04</td>\n",
       "      <td>4.765400e+04</td>\n",
       "      <td>4.765400e+04</td>\n",
       "      <td>4.765400e+04</td>\n",
       "      <td>4.765400e+04</td>\n",
       "      <td>4.765400e+04</td>\n",
       "      <td>4.765400e+04</td>\n",
       "      <td>4.765400e+04</td>\n",
       "      <td>4.765400e+04</td>\n",
       "      <td>4.765400e+04</td>\n",
       "      <td>4.765400e+04</td>\n",
       "    </tr>\n",
       "    <tr>\n",
       "      <th>mean</th>\n",
       "      <td>-6.636550e-16</td>\n",
       "      <td>3.521686e-16</td>\n",
       "      <td>-6.231125e-16</td>\n",
       "      <td>7.054508e-18</td>\n",
       "      <td>5.798302e-16</td>\n",
       "      <td>-4.371326e-17</td>\n",
       "      <td>2.530234e-17</td>\n",
       "      <td>-1.498104e-16</td>\n",
       "      <td>4.153260e-17</td>\n",
       "      <td>-3.151685e-16</td>\n",
       "      <td>3.031947e-16</td>\n",
       "      <td>3.250697e-16</td>\n",
       "      <td>-1.165914e-15</td>\n",
       "      <td>-1.705383e-17</td>\n",
       "      <td>-9.372064e-17</td>\n",
       "      <td>-3.086761e-16</td>\n",
       "    </tr>\n",
       "    <tr>\n",
       "      <th>std</th>\n",
       "      <td>1.000010e+00</td>\n",
       "      <td>1.000010e+00</td>\n",
       "      <td>1.000010e+00</td>\n",
       "      <td>1.000010e+00</td>\n",
       "      <td>1.000010e+00</td>\n",
       "      <td>1.000010e+00</td>\n",
       "      <td>1.000010e+00</td>\n",
       "      <td>1.000010e+00</td>\n",
       "      <td>1.000010e+00</td>\n",
       "      <td>1.000010e+00</td>\n",
       "      <td>1.000010e+00</td>\n",
       "      <td>1.000010e+00</td>\n",
       "      <td>1.000010e+00</td>\n",
       "      <td>1.000010e+00</td>\n",
       "      <td>1.000010e+00</td>\n",
       "      <td>1.000010e+00</td>\n",
       "    </tr>\n",
       "    <tr>\n",
       "      <th>min</th>\n",
       "      <td>-1.086032e+00</td>\n",
       "      <td>-9.007716e-01</td>\n",
       "      <td>-8.304396e-01</td>\n",
       "      <td>-2.292458e+00</td>\n",
       "      <td>-3.977950e+00</td>\n",
       "      <td>-1.354208e+00</td>\n",
       "      <td>-1.623661e+00</td>\n",
       "      <td>-3.176486e+00</td>\n",
       "      <td>-1.795737e+00</td>\n",
       "      <td>-1.835361e+00</td>\n",
       "      <td>-1.431508e+00</td>\n",
       "      <td>-1.391814e+00</td>\n",
       "      <td>-1.346023e+00</td>\n",
       "      <td>-1.584354e+00</td>\n",
       "      <td>-1.689917e+00</td>\n",
       "      <td>-1.316684e+00</td>\n",
       "    </tr>\n",
       "    <tr>\n",
       "      <th>25%</th>\n",
       "      <td>-1.086032e+00</td>\n",
       "      <td>-9.007716e-01</td>\n",
       "      <td>-8.304396e-01</td>\n",
       "      <td>-7.229224e-01</td>\n",
       "      <td>-6.832469e-01</td>\n",
       "      <td>-7.421793e-01</td>\n",
       "      <td>-7.545619e-01</td>\n",
       "      <td>3.148133e-01</td>\n",
       "      <td>-6.352557e-01</td>\n",
       "      <td>-7.431006e-01</td>\n",
       "      <td>-6.685344e-01</td>\n",
       "      <td>-6.584006e-01</td>\n",
       "      <td>-1.346023e+00</td>\n",
       "      <td>-1.001667e+00</td>\n",
       "      <td>-8.900482e-01</td>\n",
       "      <td>-5.800038e-01</td>\n",
       "    </tr>\n",
       "    <tr>\n",
       "      <th>50%</th>\n",
       "      <td>9.207834e-01</td>\n",
       "      <td>-9.007716e-01</td>\n",
       "      <td>-8.304396e-01</td>\n",
       "      <td>-6.473001e-02</td>\n",
       "      <td>5.522101e-02</td>\n",
       "      <td>-3.142951e-01</td>\n",
       "      <td>-2.202493e-01</td>\n",
       "      <td>3.148133e-01</td>\n",
       "      <td>9.456271e-03</td>\n",
       "      <td>-4.093301e-02</td>\n",
       "      <td>-2.870477e-01</td>\n",
       "      <td>7.501272e-02</td>\n",
       "      <td>7.429295e-01</td>\n",
       "      <td>-1.276363e-01</td>\n",
       "      <td>-2.352406e-02</td>\n",
       "      <td>1.566763e-01</td>\n",
       "    </tr>\n",
       "    <tr>\n",
       "      <th>75%</th>\n",
       "      <td>9.207834e-01</td>\n",
       "      <td>1.163047e+00</td>\n",
       "      <td>5.642306e-01</td>\n",
       "      <td>6.440926e-01</td>\n",
       "      <td>7.368837e-01</td>\n",
       "      <td>5.729453e-01</td>\n",
       "      <td>6.230968e-01</td>\n",
       "      <td>3.148133e-01</td>\n",
       "      <td>6.725886e-01</td>\n",
       "      <td>6.612346e-01</td>\n",
       "      <td>8.574125e-01</td>\n",
       "      <td>8.084260e-01</td>\n",
       "      <td>7.429295e-01</td>\n",
       "      <td>7.463944e-01</td>\n",
       "      <td>8.430000e-01</td>\n",
       "      <td>8.933564e-01</td>\n",
       "    </tr>\n",
       "    <tr>\n",
       "      <th>max</th>\n",
       "      <td>9.207834e-01</td>\n",
       "      <td>1.163047e+00</td>\n",
       "      <td>1.958901e+00</td>\n",
       "      <td>4.542617e+00</td>\n",
       "      <td>2.213819e+00</td>\n",
       "      <td>5.771169e+00</td>\n",
       "      <td>4.485088e+00</td>\n",
       "      <td>3.148133e-01</td>\n",
       "      <td>4.172454e+00</td>\n",
       "      <td>2.923775e+00</td>\n",
       "      <td>1.620386e+00</td>\n",
       "      <td>1.541839e+00</td>\n",
       "      <td>7.429295e-01</td>\n",
       "      <td>1.620425e+00</td>\n",
       "      <td>1.709524e+00</td>\n",
       "      <td>1.630036e+00</td>\n",
       "    </tr>\n",
       "  </tbody>\n",
       "</table>\n",
       "</div>"
      ],
      "text/plain": [
       "       is_first_loan  fully_repaid_previous_loans  \\\n",
       "count   4.765400e+04                 4.765400e+04   \n",
       "mean   -6.636550e-16                 3.521686e-16   \n",
       "std     1.000010e+00                 1.000010e+00   \n",
       "min    -1.086032e+00                -9.007716e-01   \n",
       "25%    -1.086032e+00                -9.007716e-01   \n",
       "50%     9.207834e-01                -9.007716e-01   \n",
       "75%     9.207834e-01                 1.163047e+00   \n",
       "max     9.207834e-01                 1.163047e+00   \n",
       "\n",
       "       currently_repaying_other_loans  total_credit_card_limit  \\\n",
       "count                    4.765400e+04             4.765400e+04   \n",
       "mean                    -6.231125e-16             7.054508e-18   \n",
       "std                      1.000010e+00             1.000010e+00   \n",
       "min                     -8.304396e-01            -2.292458e+00   \n",
       "25%                     -8.304396e-01            -7.229224e-01   \n",
       "50%                     -8.304396e-01            -6.473001e-02   \n",
       "75%                      5.642306e-01             6.440926e-01   \n",
       "max                      1.958901e+00             4.542617e+00   \n",
       "\n",
       "       avg_percentage_credit_card_limit_used_last_year  saving_amount  \\\n",
       "count                                     4.765400e+04   4.765400e+04   \n",
       "mean                                      5.798302e-16  -4.371326e-17   \n",
       "std                                       1.000010e+00   1.000010e+00   \n",
       "min                                      -3.977950e+00  -1.354208e+00   \n",
       "25%                                      -6.832469e-01  -7.421793e-01   \n",
       "50%                                       5.522101e-02  -3.142951e-01   \n",
       "75%                                       7.368837e-01   5.729453e-01   \n",
       "max                                       2.213819e+00   5.771169e+00   \n",
       "\n",
       "       checking_amount   is_employed  yearly_salary           age  \\\n",
       "count     4.765400e+04  4.765400e+04   4.765400e+04  4.765400e+04   \n",
       "mean      2.530234e-17 -1.498104e-16   4.153260e-17 -3.151685e-16   \n",
       "std       1.000010e+00  1.000010e+00   1.000010e+00  1.000010e+00   \n",
       "min      -1.623661e+00 -3.176486e+00  -1.795737e+00 -1.835361e+00   \n",
       "25%      -7.545619e-01  3.148133e-01  -6.352557e-01 -7.431006e-01   \n",
       "50%      -2.202493e-01  3.148133e-01   9.456271e-03 -4.093301e-02   \n",
       "75%       6.230968e-01  3.148133e-01   6.725886e-01  6.612346e-01   \n",
       "max       4.485088e+00  3.148133e-01   4.172454e+00  2.923775e+00   \n",
       "\n",
       "       dependent_number  loan_purpose   loan_repaid         month  \\\n",
       "count      4.765400e+04  4.765400e+04  4.765400e+04  4.765400e+04   \n",
       "mean       3.031947e-16  3.250697e-16 -1.165914e-15 -1.705383e-17   \n",
       "std        1.000010e+00  1.000010e+00  1.000010e+00  1.000010e+00   \n",
       "min       -1.431508e+00 -1.391814e+00 -1.346023e+00 -1.584354e+00   \n",
       "25%       -6.685344e-01 -6.584006e-01 -1.346023e+00 -1.001667e+00   \n",
       "50%       -2.870477e-01  7.501272e-02  7.429295e-01 -1.276363e-01   \n",
       "75%        8.574125e-01  8.084260e-01  7.429295e-01  7.463944e-01   \n",
       "max        1.620386e+00  1.541839e+00  7.429295e-01  1.620425e+00   \n",
       "\n",
       "               week     dayofweek  \n",
       "count  4.765400e+04  4.765400e+04  \n",
       "mean  -9.372064e-17 -3.086761e-16  \n",
       "std    1.000010e+00  1.000010e+00  \n",
       "min   -1.689917e+00 -1.316684e+00  \n",
       "25%   -8.900482e-01 -5.800038e-01  \n",
       "50%   -2.352406e-02  1.566763e-01  \n",
       "75%    8.430000e-01  8.933564e-01  \n",
       "max    1.709524e+00  1.630036e+00  "
      ]
     },
     "execution_count": 200,
     "metadata": {},
     "output_type": "execute_result"
    }
   ],
   "source": [
    "datas.describe()"
   ]
  },
  {
   "cell_type": "code",
   "execution_count": 201,
   "metadata": {},
   "outputs": [],
   "source": [
    "datas['loan_repaid'] = data['loan_repaid'].values"
   ]
  },
  {
   "cell_type": "code",
   "execution_count": 202,
   "metadata": {},
   "outputs": [
    {
     "name": "stdout",
     "output_type": "stream",
     "text": [
      "<class 'pandas.core.frame.DataFrame'>\n",
      "RangeIndex: 47654 entries, 0 to 47653\n",
      "Data columns (total 16 columns):\n",
      "is_first_loan                                      47654 non-null float64\n",
      "fully_repaid_previous_loans                        47654 non-null float64\n",
      "currently_repaying_other_loans                     47654 non-null float64\n",
      "total_credit_card_limit                            47654 non-null float64\n",
      "avg_percentage_credit_card_limit_used_last_year    47654 non-null float64\n",
      "saving_amount                                      47654 non-null float64\n",
      "checking_amount                                    47654 non-null float64\n",
      "is_employed                                        47654 non-null float64\n",
      "yearly_salary                                      47654 non-null float64\n",
      "age                                                47654 non-null float64\n",
      "dependent_number                                   47654 non-null float64\n",
      "loan_purpose                                       47654 non-null float64\n",
      "loan_repaid                                        47654 non-null int64\n",
      "month                                              47654 non-null float64\n",
      "week                                               47654 non-null float64\n",
      "dayofweek                                          47654 non-null float64\n",
      "dtypes: float64(15), int64(1)\n",
      "memory usage: 5.8 MB\n"
     ]
    }
   ],
   "source": [
    "datas.info()"
   ]
  },
  {
   "cell_type": "code",
   "execution_count": null,
   "metadata": {},
   "outputs": [],
   "source": []
  },
  {
   "cell_type": "code",
   "execution_count": 203,
   "metadata": {},
   "outputs": [],
   "source": [
    "# split into training and test data set\n",
    "X = datas.drop('loan_repaid', axis=1)\n",
    "y = datas['loan_repaid']\n",
    "\n",
    "X_train, X_test, y_train, y_test = train_test_split(X, y, test_size=0.25, stratify=y, random_state=42)"
   ]
  },
  {
   "cell_type": "code",
   "execution_count": 204,
   "metadata": {},
   "outputs": [
    {
     "name": "stdout",
     "output_type": "stream",
     "text": [
      "The mean accuracy with 10 fold cross validation is 90.02\n"
     ]
    }
   ],
   "source": [
    "# Importing the model:\n",
    "from sklearn.model_selection import train_test_split, cross_val_score, cross_val_predict\n",
    "from sklearn.linear_model import LogisticRegression\n",
    "\n",
    "# Initiating the model:\n",
    "lr = LogisticRegression()\n",
    "\n",
    "scores = cross_val_score(lr, X_train, y_train, scoring='accuracy' ,cv=10).mean()\n",
    "\n",
    "print(\"The mean accuracy with 10 fold cross validation is %s\" % round(scores*100,2))"
   ]
  },
  {
   "cell_type": "code",
   "execution_count": 205,
   "metadata": {},
   "outputs": [],
   "source": [
    "from sklearn import metrics\n",
    "from sklearn.model_selection import cross_val_score"
   ]
  },
  {
   "cell_type": "code",
   "execution_count": 208,
   "metadata": {},
   "outputs": [],
   "source": [
    "lr = lr.fit(X_train, y_train)\n",
    "prob = lr.predict_proba(X_test)\n",
    "predicted= lr.predict(X_test)"
   ]
  },
  {
   "cell_type": "code",
   "execution_count": 211,
   "metadata": {},
   "outputs": [
    {
     "data": {
      "text/plain": [
       "array([1, 0, 1, ..., 0, 1, 1])"
      ]
     },
     "execution_count": 211,
     "metadata": {},
     "output_type": "execute_result"
    }
   ],
   "source": [
    "predicted"
   ]
  },
  {
   "cell_type": "code",
   "execution_count": 213,
   "metadata": {},
   "outputs": [
    {
     "data": {
      "text/plain": [
       "array([0.99125433, 0.00842339, 0.99341446, ..., 0.06092095, 0.99504519,\n",
       "       0.98499788])"
      ]
     },
     "execution_count": 213,
     "metadata": {},
     "output_type": "execute_result"
    }
   ],
   "source": [
    "prob[:,1]"
   ]
  },
  {
   "cell_type": "code",
   "execution_count": 221,
   "metadata": {},
   "outputs": [],
   "source": [
    "from sklearn.linear_model import LogisticRegressionCV\n",
    "clf = LogisticRegressionCV(cv=5, random_state=0,multi_class='multinomial').fit(X_train, y_train)\n",
    "prob2 = lr.predict_proba(X_test)\n",
    "predicted2= lr.predict(X_test)"
   ]
  },
  {
   "cell_type": "code",
   "execution_count": 217,
   "metadata": {},
   "outputs": [
    {
     "name": "stdout",
     "output_type": "stream",
     "text": [
      "Bank profit:\t 3440\n"
     ]
    }
   ],
   "source": [
    "# Total profit from original bank\n",
    "loan_paid = y_test.astype(int).values\n",
    "bank_profit = np.sum(loan_paid*2-1)\n",
    "print('Bank profit:\\t',bank_profit)"
   ]
  },
  {
   "cell_type": "code",
   "execution_count": 218,
   "metadata": {},
   "outputs": [],
   "source": [
    "# Now, let's set a series of threshold to determine whether or not the loan will be given\n",
    "def calculate_profit(loan_paid, probability, threshold):\n",
    "    loan_granted = (probability > threshold).astype(int)\n",
    "    profit = 0\n",
    "    for i in range(len(loan_paid)):\n",
    "        if loan_granted[i] == 1:\n",
    "            if loan_paid[i] == 0:\n",
    "                profit -= 1\n",
    "            else:\n",
    "                profit += 1\n",
    "                \n",
    "    return profit"
   ]
  },
  {
   "cell_type": "code",
   "execution_count": 222,
   "metadata": {},
   "outputs": [],
   "source": [
    "# calculate the profit according to given threshold\n",
    "thresholds = list(np.linspace(0, 1, 100))\n",
    "profits = []\n",
    "profits2 = []\n",
    "\n",
    "for threshold in thresholds:\n",
    "    profits.append(calculate_profit(loan_paid, prob[:,1], threshold))\n",
    "    profits2.append(calculate_profit(loan_paid, prob2[:,1], threshold))"
   ]
  },
  {
   "cell_type": "code",
   "execution_count": null,
   "metadata": {},
   "outputs": [],
   "source": []
  },
  {
   "cell_type": "code",
   "execution_count": 223,
   "metadata": {},
   "outputs": [
    {
     "data": {
      "image/png": "[encoded data removed]",
      "text/plain": [
       "<Figure size 576x432 with 1 Axes>"
      ]
     },
     "metadata": {
      "needs_background": "light"
     },
     "output_type": "display_data"
    }
   ],
   "source": [
    "fig, ax = plt.subplots(figsize=(8, 6))\n",
    "ax.plot(thresholds, profits, label='New Model')\n",
    "ax.plot(thresholds, profits2, label='New Model2')\n",
    "ax.plot(thresholds, [bank_profit] * len(thresholds), label='Bank Model')\n",
    "ax.set_xlabel('Threshold', fontsize=12)\n",
    "ax.set_ylabel('Profit', fontsize=12)\n",
    "ax.legend(fontsize=12)\n",
    "plt.tight_layout()\n",
    "plt.show()\n"
   ]
  },
  {
   "cell_type": "code",
   "execution_count": null,
   "metadata": {},
   "outputs": [],
   "source": []
  }
 ],
 "metadata": {
  "kernelspec": {
   "display_name": "Python 3",
   "language": "python",
   "name": "python3"
  },
  "language_info": {
   "codemirror_mode": {
    "name": "ipython",
    "version": 3
   },
   "file_extension": ".py",
   "mimetype": "text/x-python",
   "name": "python",
   "nbconvert_exporter": "python",
   "pygments_lexer": "ipython3",
   "version": "3.6.8"
  }
 },
 "nbformat": 4,
 "nbformat_minor": 2
}
